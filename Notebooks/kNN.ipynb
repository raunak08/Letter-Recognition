{
 "cells": [
  {
   "cell_type": "code",
   "execution_count": 1,
   "metadata": {},
   "outputs": [
    {
     "name": "stdout",
     "output_type": "stream",
     "text": [
      "<class 'numpy.ndarray'>\n",
      "<class 'numpy.ndarray'>\n",
      "The accuracy of model based on kNN is - \n",
      "0.95075\n"
     ]
    }
   ],
   "source": [
    "import numpy as np\n",
    "from sklearn.neighbors import KNeighborsClassifier\n",
    "import pandas as pd\n",
    "from sklearn import metrics\n",
    "import matplotlib.pyplot as plt\n",
    "from sklearn.datasets import make_classification\n",
    "from sklearn.ensemble import ExtraTreesClassifier\n",
    "from sklearn.decomposition import PCA\n",
    "# from sklearn.preprocessing import StandardScaler\n",
    "\n",
    "letters = pd.read_csv('letter_data.csv')\n",
    "#print(letters.columns.values)\n",
    "\n",
    "p=PCA()\n",
    "\n",
    "#letters\n",
    "training_points = np.array(letters[:16000].drop(['letter','x-box', 'y-box ', 'width', 'high ', 'onpix ', 'xybar', 'x-ege','y-ege'], 1))\n",
    "training_labels = np.array(letters[:16000]['letter'])\n",
    "\n",
    "# covariance=letters.corr(method='pearson',)\n",
    "# covariance\n",
    "\n",
    "# #Build a forest and compute the feature importances\n",
    "# forest = ExtraTreesClassifier(n_estimators=250, random_state=0)\n",
    "# forest.fit(training_points, training_labels)\n",
    "# importances = forest.feature_importances_\n",
    "# #print(importances)\n",
    "\n",
    "\n",
    "training_points= p.fit_transform(training_points)\n",
    "\n",
    "\n",
    "neigh = KNeighborsClassifier(n_neighbors=1)\n",
    "neigh.fit(training_points, training_labels) \n",
    "\n",
    "\n",
    "test_points = np.array(letters[4000:].drop(['letter','x-box', 'y-box ', 'width', 'high ', 'onpix ', 'xybar', 'x-ege','y-ege'], 1))\n",
    "test_labels = np.array(letters[4000:]['letter'])\n",
    "\n",
    "\n",
    "test_points = p.transform(test_points)\n",
    "\n",
    "print(type(test_points))\n",
    "print(type(test_labels))\n",
    "\n",
    "accuracy = neigh.score(test_points, test_labels)\n",
    "print(\"The accuracy of model based on kNN is - \")\n",
    "print(float(accuracy))\n",
    "\n",
    "# # data = letters\n",
    "# # correlation = data.corr(method='pearson')\n",
    "# # correlation \n",
    "\n",
    "\n",
    "\n",
    "# # # summarize the fit of the model\n",
    "# # print(metrics.classification_report(expected, predicted))\n",
    "# # print(metrics.confusion_matrix(expected, predicted)"
   ]
  },
  {
   "cell_type": "code",
   "execution_count": 10,
   "metadata": {},
   "outputs": [],
   "source": [
    "expected = test_labels\n",
    "predicted = neigh.predict(test_points)"
   ]
  },
  {
   "cell_type": "code",
   "execution_count": 12,
   "metadata": {},
   "outputs": [
    {
     "name": "stdout",
     "output_type": "stream",
     "text": [
      "             precision    recall  f1-score   support\n",
      "\n",
      "          A       0.99      0.99      0.99       629\n",
      "          B       0.92      0.94      0.93       606\n",
      "          C       0.99      0.98      0.99       569\n",
      "          D       0.96      0.96      0.96       639\n",
      "          E       0.95      0.98      0.96       617\n",
      "          F       0.95      0.97      0.96       629\n",
      "          G       0.98      0.97      0.97       620\n",
      "          H       0.88      0.89      0.89       566\n",
      "          I       0.94      0.74      0.83       592\n",
      "          J       0.97      0.97      0.97       576\n",
      "          K       0.97      0.95      0.96       599\n",
      "          L       0.99      0.98      0.98       617\n",
      "          M       0.98      0.97      0.98       626\n",
      "          N       0.96      0.93      0.94       638\n",
      "          O       0.91      0.93      0.92       604\n",
      "          P       0.98      0.98      0.98       643\n",
      "          Q       0.96      0.93      0.94       645\n",
      "          R       0.95      0.98      0.97       621\n",
      "          S       0.89      0.90      0.89       590\n",
      "          T       0.97      0.98      0.98       640\n",
      "          U       0.98      0.97      0.98       652\n",
      "          V       0.99      0.97      0.98       608\n",
      "          W       0.98      0.99      0.98       628\n",
      "          X       0.78      0.94      0.85       621\n",
      "          Y       0.99      0.98      0.98       626\n",
      "          Z       0.96      0.92      0.94       599\n",
      "\n",
      "avg / total       0.95      0.95      0.95     16000\n",
      "\n"
     ]
    }
   ],
   "source": [
    "print(metrics.classification_report(expected, predicted))"
   ]
  },
  {
   "cell_type": "code",
   "execution_count": 15,
   "metadata": {},
   "outputs": [
    {
     "name": "stdout",
     "output_type": "stream",
     "text": [
      "[[625   0   0   0   0   0   0   0   0   0   0   0   0   0   0   0   0   0\n",
      "    1   0   1   1   0   0   1   0]\n",
      " [  0 567   1   5   1   3   0   3   2   1   0   0   2   2   0   0   1   7\n",
      "   10   0   0   0   0   1   0   0]\n",
      " [  0   0 559   0   2   0   2   0   0   0   1   1   0   0   0   0   2   0\n",
      "    0   1   1   0   0   0   0   0]\n",
      " [  0   8   0 614   0   1   0   4   2   0   0   0   0   1   2   0   0   2\n",
      "    2   1   0   0   0   1   0   1]\n",
      " [  0   0   2   0 603   1   1   1   1   0   3   0   0   0   0   0   1   1\n",
      "    0   0   0   0   0   1   0   2]\n",
      " [  0   2   0   0   0 611   0   0   3   0   1   0   0   2   0   4   0   0\n",
      "    2   3   0   0   0   0   1   0]\n",
      " [  0   0   0   0   1   0 603   6   0   0   0   0   1   0   2   1   3   2\n",
      "    0   0   1   0   0   0   0   0]\n",
      " [  0   6   0   8   3   1   3 505   0   4   2   1   0  12   2   0   0   4\n",
      "    5   0   4   0   0   5   0   1]\n",
      " [  0   0   0   1   4   5   0   0 437   6   0   0   0   0   0   2   1   0\n",
      "    0   0   0   0   1 134   0   1]\n",
      " [  0   0   0   1   1   1   0   2   4 560   0   0   0   1   0   1   0   0\n",
      "    0   1   0   0   1   3   0   0]\n",
      " [  0   0   0   1   6   1   0   3   0   3 567   2   0   1   0   0   0   7\n",
      "    3   3   0   0   0   2   0   0]\n",
      " [  0   4   0   0   3   0   0   2   0   1   0 603   0   0   0   1   0   0\n",
      "    1   1   0   0   0   0   0   1]\n",
      " [  0   1   0   2   0   2   1   0   0   0   0   0 610   3   0   0   0   0\n",
      "    2   0   1   2   0   2   0   0]\n",
      " [  0   4   0   0   1   7   0  17   0   0   1   0   6 594   2   0   1   2\n",
      "    1   0   0   1   0   1   0   0]\n",
      " [  0   0   0   5   0   0   1   9   2   0   0   0   0   0 563   1  11   2\n",
      "    7   0   2   0   1   0   0   0]\n",
      " [  0   4   0   0   0   8   0   0   1   0   0   0   0   0   1 628   0   0\n",
      "    0   0   0   0   0   0   0   1]\n",
      " [  0   3   1   0   1   0   3   0   0   0   0   0   0   1  30   0 598   1\n",
      "    4   0   1   0   1   0   0   1]\n",
      " [  0   1   0   0   0   0   0   4   0   0   3   0   1   3   0   0   0 607\n",
      "    2   0   0   0   0   0   0   0]\n",
      " [  1   1   1   0   2   1   1   6   3   1   0   3   0   0  12   1   2   1\n",
      "  532   3   1   1   0   5   0  12]\n",
      " [  0   0   0   1   0   0   0   1   0   1   1   0   0   0   0   0   0   0\n",
      "    1 629   1   0   1   0   4   0]\n",
      " [  0   5   0   0   0   0   0   1   1   0   2   1   3   0   1   0   0   0\n",
      "    0   1 635   0   1   1   0   0]\n",
      " [  1   4   0   0   0   0   1   0   0   0   0   0   0   0   0   0   1   0\n",
      "    0   0   0 592   6   0   3   0]\n",
      " [  0   3   0   1   0   0   0   0   0   0   0   0   0   0   1   1   0   0\n",
      "    0   0   0   1 620   1   0   0]\n",
      " [  2   1   0   0   5   0   0  11   6   1   4   0   0   0   0   0   0   0\n",
      "    4   0   0   0   0 583   0   4]\n",
      " [  0   0   0   2   0   2   0   0   1   0   0   0   0   1   0   0   0   0\n",
      "    0   3   0   1   0   1 614   1]\n",
      " [  0   0   0   1   4   1   2   0   2   2   0   0   2   0   0   0   0   0\n",
      "   24   1   1   0   0   6   0 553]]\n"
     ]
    }
   ],
   "source": [
    " print(metrics.confusion_matrix(expected,predicted))"
   ]
  },
  {
   "cell_type": "code",
   "execution_count": null,
   "metadata": {},
   "outputs": [],
   "source": []
  }
 ],
 "metadata": {
  "kernelspec": {
   "display_name": "Python 3",
   "language": "python",
   "name": "python3"
  },
  "language_info": {
   "codemirror_mode": {
    "name": "ipython",
    "version": 3
   },
   "file_extension": ".py",
   "mimetype": "text/x-python",
   "name": "python",
   "nbconvert_exporter": "python",
   "pygments_lexer": "ipython3",
   "version": "3.6.5"
  }
 },
 "nbformat": 4,
 "nbformat_minor": 2
}
