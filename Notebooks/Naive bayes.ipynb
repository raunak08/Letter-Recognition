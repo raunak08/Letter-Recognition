{
 "cells": [
  {
   "cell_type": "code",
   "execution_count": 13,
   "metadata": {},
   "outputs": [
    {
     "name": "stdout",
     "output_type": "stream",
     "text": [
      "The accuracy of model based on Naive Bayes is - \n",
      "0.6484375\n"
     ]
    }
   ],
   "source": [
    "import numpy as np\n",
    "from sklearn.naive_bayes import GaussianNB\n",
    "import pandas as pd\n",
    "from sklearn import metrics\n",
    "\n",
    "letters = pd.read_csv('letter_data.csv')\n",
    "#letters\n",
    "\n",
    "# covariance=letters.corr(method='pearson',)\n",
    "# covariance\n",
    "\n",
    "training_points = np.array(letters[:16000].drop(['letter','x-box','y-box ','width','high ','onpix ','xegvy'], 1))\n",
    "training_labels = np.array(letters[:16000]['letter'])\n",
    "\n",
    "\n",
    "clf = GaussianNB()\n",
    "clf.fit(training_points, training_labels)\n",
    "\n",
    "\n",
    "test_points = np.array(letters[4000:].drop(['letter','x-box','y-box ','width','high ','onpix ','xegvy'], 1))\n",
    "test_labels = np.array(letters[4000:]['letter'])\n",
    "predicts = clf.predict(test_points)\n",
    "\n",
    "accuracy = clf.score(test_points, test_labels)\n",
    "\n",
    "print(\"The accuracy of model based on Naive Bayes is - \")\n",
    "print(float(accuracy))\n",
    "\n",
    "\n",
    "\n",
    "# # # # summarize the fit of the model\n",
    "# print(metrics.classification_report(expected, predicted))\n",
    "# print(metrics.confusion_matrix(expected, predicted))\n"
   ]
  },
  {
   "cell_type": "code",
   "execution_count": 10,
   "metadata": {},
   "outputs": [],
   "source": [
    "expected = test_labels\n",
    "predicted = clf.predict(test_points)"
   ]
  },
  {
   "cell_type": "code",
   "execution_count": 11,
   "metadata": {},
   "outputs": [
    {
     "name": "stdout",
     "output_type": "stream",
     "text": [
      "             precision    recall  f1-score   support\n",
      "\n",
      "          A       0.84      0.86      0.85       629\n",
      "          B       0.48      0.79      0.59       606\n",
      "          C       0.75      0.75      0.75       569\n",
      "          D       0.59      0.77      0.66       639\n",
      "          E       0.60      0.32      0.42       617\n",
      "          F       0.62      0.73      0.67       629\n",
      "          G       0.54      0.59      0.56       620\n",
      "          H       0.50      0.28      0.36       566\n",
      "          I       0.70      0.79      0.74       592\n",
      "          J       0.72      0.64      0.68       576\n",
      "          K       0.56      0.49      0.52       599\n",
      "          L       0.94      0.78      0.85       617\n",
      "          M       0.69      0.84      0.76       626\n",
      "          N       0.81      0.63      0.71       638\n",
      "          O       0.52      0.73      0.61       604\n",
      "          P       0.88      0.71      0.78       643\n",
      "          Q       0.62      0.60      0.61       645\n",
      "          R       0.57      0.63      0.60       621\n",
      "          S       0.35      0.34      0.34       590\n",
      "          T       0.63      0.63      0.63       640\n",
      "          U       0.92      0.71      0.80       652\n",
      "          V       0.66      0.79      0.72       608\n",
      "          W       0.81      0.82      0.82       628\n",
      "          X       0.48      0.68      0.56       621\n",
      "          Y       0.55      0.23      0.32       626\n",
      "          Z       0.82      0.69      0.75       599\n",
      "\n",
      "avg / total       0.66      0.65      0.64     16000\n",
      "\n"
     ]
    }
   ],
   "source": [
    "print(metrics.classification_report(expected, predicted))"
   ]
  },
  {
   "cell_type": "code",
   "execution_count": 12,
   "metadata": {},
   "outputs": [
    {
     "name": "stdout",
     "output_type": "stream",
     "text": [
      "[[543   0   0   1   0   0   2   1   0   6   4   1   6  14   0   0  14   3\n",
      "   21   0   2   0   4   4   3   0]\n",
      " [  0 479   0  22   0   1   7   8  20   2   0   0   5   0   3   0   3  43\n",
      "    7   0   0   0   0   6   0   0]\n",
      " [  0   1 425   0  16   2  28   0   0   0  43   0   5   0  13   0  19   0\n",
      "    6   5   5   0   0   0   1   0]\n",
      " [  7  41   0 490   1   1   0   1   1  17   4   1   0   0  19   5   0  14\n",
      "   32   0   0   0   0   5   0   0]\n",
      " [  0  10  17   0 200   0 108   4  21   0  17   0   0   0   0   0  36  10\n",
      "   37  10   0   0   0 122   7  18]\n",
      " [  0  37   0  22   0 460   8   1  17   4   0   0   1  12   0  11   1  14\n",
      "   12  15   0   0   2   5   6   1]\n",
      " [  9  13 100  11   1   2 366  10   0   0   2   1  13   1   7   2  47  12\n",
      "    7   0   0   0  12   4   0   0]\n",
      " [  4  32   1  50   0   5  17 157   0   2  11   0  13   3 102   0   3  24\n",
      "    8   3   9   0   4 104  14   0]\n",
      " [  0  16   0  27   6   2   0   0 467  26   0   7   0   0   0   9   3   1\n",
      "   25   2   0   0   0   1   0   0]\n",
      " [  1  22   0  23   0   8   0   1  76 371   0   0   0   1   7  17   2  14\n",
      "   29   1   0   0   0   3   0   0]\n",
      " [  1  23   6  23  42   0  32   7   0   0 291   0  11   0   0   0   0  55\n",
      "    0  10   3   0   0  84  11   0]\n",
      " [  2  13   2   0  13   0  17   0   0  30  25 482   1   0   0   0  19   3\n",
      "    4   0   0   0   0   6   0   0]\n",
      " [ 21   8   0   0   0   0   3  15   0   0  14   0 528   7   6   0   1   8\n",
      "    0   0   5   0  10   0   0   0]\n",
      " [  3   6   0  21   0   0   0  54   0   8   8   0  11 405  22   0   1  24\n",
      "    0   0   3  43  27   0   2   0]\n",
      " [  4   8   0  23   0   0  20   3   0   0  11   0  27   0 443   4  14  32\n",
      "    4   0   1   1   9   0   0   0]\n",
      " [  0   6   0  22   0  62  22  10   8   9   0   0   5   6   2 455   2   0\n",
      "    0   3   0   1  22   0   8   0]\n",
      " [ 13  13   0   5   0   0   9   4   0   6   0   9   6   0 133   0 384  17\n",
      "   39   0   0   2   0   0   1   4]\n",
      " [  1  91   0  50   0   0  10   7   0   3  19   0   9   0  13   0   6 391\n",
      "    2   0   0   0   0  19   0   0]\n",
      " [ 32 109   1   7  10   8   4   0  40  12   1   1   0   0   0   1  23   9\n",
      "  198  14   1   3   0  54   7  55]\n",
      " [  0   2   2   1  10  93  17   3   0   0  23   0   1   0   2   0   1   0\n",
      "   11 402   1  21   0  23  15  12]\n",
      " [  0   1  11   5   0   2   5  22   0   0  33   1  44  20  31   0  10   0\n",
      "    0   0 464   0   1   2   0   0]\n",
      " [  0  18   0   0   0  10   3   4   0   0   1   0  23  21   0  13   0   5\n",
      "    2   1   0 481  17   0   9   0]\n",
      " [  0  20   0   0   0   0   4   2   0   0   0   0  44   8  11   0   0   0\n",
      "    0   0   0  23 516   0   0   0]\n",
      " [  0  36   0  21   9   0   0   0  15   2   8   6   0   0  36   0   0   0\n",
      "   20  17   3   0   0 420  26   2]\n",
      " [  0   0   0   9   0  80   0   0   0   0   1   0  12   1   1   0  30   1\n",
      "   24 146   8 156  13   1 143   0]\n",
      " [  9   2   0   2  24   4   2   0   4  16   0   5   0   0   0   0   2   5\n",
      "   82  10   0   0   0  12   6 414]]\n"
     ]
    }
   ],
   "source": [
    "print(metrics.confusion_matrix(expected, predicted))"
   ]
  },
  {
   "cell_type": "code",
   "execution_count": null,
   "metadata": {},
   "outputs": [],
   "source": []
  }
 ],
 "metadata": {
  "kernelspec": {
   "display_name": "Python 3",
   "language": "python",
   "name": "python3"
  },
  "language_info": {
   "codemirror_mode": {
    "name": "ipython",
    "version": 3
   },
   "file_extension": ".py",
   "mimetype": "text/x-python",
   "name": "python",
   "nbconvert_exporter": "python",
   "pygments_lexer": "ipython3",
   "version": "3.6.5"
  }
 },
 "nbformat": 4,
 "nbformat_minor": 2
}
